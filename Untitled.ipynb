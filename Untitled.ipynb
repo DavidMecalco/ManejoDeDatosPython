{
 "cells": [
  {
   "cell_type": "markdown",
   "id": "9b850cd6",
   "metadata": {},
   "source": [
    "La estructura central de Numnar es el Array.\n",
    "Además represanta datos de manera más estructurada, \n",
    "Acceso a uno o muchos más elementos."
   ]
  },
  {
   "cell_type": "code",
   "execution_count": 1,
   "id": "54390392",
   "metadata": {},
   "outputs": [],
   "source": [
    "import pandas as pd"
   ]
  },
  {
   "cell_type": "code",
   "execution_count": null,
   "id": "1abce3ca",
   "metadata": {},
   "outputs": [],
   "source": []
  }
 ],
 "metadata": {
  "kernelspec": {
   "display_name": "Python 3 (ipykernel)",
   "language": "python",
   "name": "python3"
  },
  "language_info": {
   "codemirror_mode": {
    "name": "ipython",
    "version": 3
   },
   "file_extension": ".py",
   "mimetype": "text/x-python",
   "name": "python",
   "nbconvert_exporter": "python",
   "pygments_lexer": "ipython3",
   "version": "3.9.13"
  }
 },
 "nbformat": 4,
 "nbformat_minor": 5
}
