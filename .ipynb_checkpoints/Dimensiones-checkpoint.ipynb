{
 "cells": [
  {
   "cell_type": "markdown",
   "id": "8d1880b1",
   "metadata": {},
   "source": [
    "Las dimensiones que podemos utilizar para Python:\n",
    "    Scalar: cuando tiene solo es un dato o un valor (dim= 0)\n",
    "    Vector: cuado tiene una sola dimensión, puede ser un array (dim = 1)\n",
    "    Matrix: cuando tiene dos dimensiones, pueden ser Hojas de cálculo (dim = 2)\n",
    "    Tensor: cuentiene tres o más dimensiones, pueden ser series de tiempo o imágenes (dim = 3)"
   ]
  },
  {
   "cell_type": "code",
   "execution_count": 1,
   "id": "c36cc2bd",
   "metadata": {},
   "outputs": [],
   "source": [
    "import numpy as np"
   ]
  },
  {
   "cell_type": "markdown",
   "id": "e543b2fc",
   "metadata": {},
   "source": [
    "Definición de un Scalar:"
   ]
  },
  {
   "cell_type": "code",
   "execution_count": 3,
   "id": "8f40f1af",
   "metadata": {},
   "outputs": [
    {
     "name": "stdout",
     "output_type": "stream",
     "text": [
      "42\n"
     ]
    },
    {
     "data": {
      "text/plain": [
       "0"
      ]
     },
     "execution_count": 3,
     "metadata": {},
     "output_type": "execute_result"
    }
   ],
   "source": [
    "scalar = np.array(42)\n",
    "print(scalar)\n",
    "#Para saber el número de dimensiones\n",
    "scalar.ndim"
   ]
  },
  {
   "cell_type": "markdown",
   "id": "b70a66a0",
   "metadata": {},
   "source": [
    "Definisión de un Vector:"
   ]
  },
  {
   "cell_type": "code",
   "execution_count": 4,
   "id": "cbec81fb",
   "metadata": {},
   "outputs": [
    {
     "name": "stdout",
     "output_type": "stream",
     "text": [
      "[1 2 3 4]\n"
     ]
    },
    {
     "data": {
      "text/plain": [
       "1"
      ]
     },
     "execution_count": 4,
     "metadata": {},
     "output_type": "execute_result"
    }
   ],
   "source": [
    "vector = np.array([1,2,3,4])\n",
    "print(vector)\n",
    "#Para saber el número de dimensiones\n",
    "vector.ndim"
   ]
  },
  {
   "cell_type": "markdown",
   "id": "57181f15",
   "metadata": {},
   "source": [
    "Definición de una Matrix:"
   ]
  },
  {
   "cell_type": "code",
   "execution_count": 5,
   "id": "ea8d8a8b",
   "metadata": {},
   "outputs": [
    {
     "name": "stdout",
     "output_type": "stream",
     "text": [
      "[[1 2 3]\n",
      " [4 5 6]]\n"
     ]
    },
    {
     "data": {
      "text/plain": [
       "2"
      ]
     },
     "execution_count": 5,
     "metadata": {},
     "output_type": "execute_result"
    }
   ],
   "source": [
    "matriz = np.array([[1,2,3],[4,5,6]])\n",
    "print(matriz)\n",
    "#Para saber el nímero de dimensiones\n",
    "matriz.ndim"
   ]
  },
  {
   "cell_type": "markdown",
   "id": "13763d79",
   "metadata": {},
   "source": [
    "Definisión de un tensor:"
   ]
  },
  {
   "cell_type": "code",
   "execution_count": 6,
   "id": "d1fe07dd",
   "metadata": {},
   "outputs": [
    {
     "name": "stdout",
     "output_type": "stream",
     "text": [
      "[[[1 2 3]\n",
      "  [4 5 6]\n",
      "  [7 8 9]]\n",
      "\n",
      " [[1 2 3]\n",
      "  [4 5 6]\n",
      "  [7 8 9]]]\n"
     ]
    },
    {
     "data": {
      "text/plain": [
       "3"
      ]
     },
     "execution_count": 6,
     "metadata": {},
     "output_type": "execute_result"
    }
   ],
   "source": [
    "tensor = np.array([[[1,2,3],[4,5,6],[7,8,9]],[[1,2,3],[4,5,6],[7,8,9]]])\n",
    "print(tensor)\n",
    "#Para saber el nímero de dimensiones\n",
    "tensor.ndim"
   ]
  },
  {
   "cell_type": "markdown",
   "id": "84a51786",
   "metadata": {},
   "source": [
    "Para agregar o elimanar dimensiones que queramos"
   ]
  },
  {
   "cell_type": "code",
   "execution_count": 8,
   "id": "7095b82b",
   "metadata": {},
   "outputs": [
    {
     "name": "stdout",
     "output_type": "stream",
     "text": [
      "[[[[[[[[[[1 2 3 4]]]]]]]]]]\n"
     ]
    },
    {
     "data": {
      "text/plain": [
       "10"
      ]
     },
     "execution_count": 8,
     "metadata": {},
     "output_type": "execute_result"
    }
   ],
   "source": [
    "vector = np.array([1,2,3,4], ndmin=10)\n",
    "print(vector)\n",
    "#Para saber el número de dimensiones\n",
    "vector.ndim"
   ]
  },
  {
   "cell_type": "markdown",
   "id": "1a26251c",
   "metadata": {},
   "source": [
    "Para agregar solamente una dimensión"
   ]
  },
  {
   "cell_type": "code",
   "execution_count": 11,
   "id": "db4852b8",
   "metadata": {},
   "outputs": [
    {
     "name": "stdout",
     "output_type": "stream",
     "text": [
      "[[1 2 3 4]]\n"
     ]
    },
    {
     "data": {
      "text/plain": [
       "2"
      ]
     },
     "execution_count": 11,
     "metadata": {},
     "output_type": "execute_result"
    }
   ],
   "source": [
    "expand = np.expand_dims(np.array([1,2,3,4]), axis=0)\n",
    "print(expand)\n",
    "expand.ndim"
   ]
  },
  {
   "cell_type": "markdown",
   "id": "7d329155",
   "metadata": {},
   "source": [
    "Para eliminar las dimensiones que no se esten usando de forma automática"
   ]
  },
  {
   "cell_type": "code",
   "execution_count": 12,
   "id": "2f7301ba",
   "metadata": {},
   "outputs": [
    {
     "name": "stdout",
     "output_type": "stream",
     "text": [
      "[[[[[[[[[[1 2 3 4]]]]]]]]]] 10\n",
      "[1 2 3 4] 1\n"
     ]
    }
   ],
   "source": [
    "print(vector, vector.ndim)\n",
    "#np.squeeze se utiliza para elminar las dimensiones que no se utulicen en nuestra definición\n",
    "vector_2 = np.squeeze(vector)\n",
    "print(vector_2, vector_2.ndim)"
   ]
  },
  {
   "cell_type": "code",
   "execution_count": null,
   "id": "6e68d30b",
   "metadata": {},
   "outputs": [],
   "source": []
  }
 ],
 "metadata": {
  "kernelspec": {
   "display_name": "Python 3 (ipykernel)",
   "language": "python",
   "name": "python3"
  },
  "language_info": {
   "codemirror_mode": {
    "name": "ipython",
    "version": 3
   },
   "file_extension": ".py",
   "mimetype": "text/x-python",
   "name": "python",
   "nbconvert_exporter": "python",
   "pygments_lexer": "ipython3",
   "version": "3.9.13"
  }
 },
 "nbformat": 4,
 "nbformat_minor": 5
}
